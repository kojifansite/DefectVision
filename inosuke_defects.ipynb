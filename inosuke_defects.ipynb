{
  "nbformat": 4,
  "nbformat_minor": 0,
  "metadata": {
    "colab": {
      "provenance": []
    },
    "kernelspec": {
      "name": "python3",
      "display_name": "Python 3"
    },
    "language_info": {
      "name": "python"
    }
  },
  "cells": [
    {
      "cell_type": "code",
      "execution_count": null,
      "metadata": {
        "id": "l3W4XcnD462v"
      },
      "outputs": [],
      "source": [
        "!nvidia-smi"
      ]
    },
    {
      "cell_type": "code",
      "source": [
        "import os\n",
        "HOME = os.getcwd()\n",
        "print(HOME)"
      ],
      "metadata": {
        "id": "Eg8xH6Nu8ZrC"
      },
      "execution_count": null,
      "outputs": []
    },
    {
      "cell_type": "code",
      "source": [
        "!pip install ultralytics==8.0.28\n",
        "\n",
        "from IPython import display\n",
        "display.clear_output()\n",
        "\n",
        "import ultralytics\n",
        "ultralytics.checks()"
      ],
      "metadata": {
        "id": "al__aO2v8ZzP"
      },
      "execution_count": null,
      "outputs": []
    },
    {
      "cell_type": "code",
      "source": [
        "from ultralytics import YOLO\n",
        "\n",
        "from IPython.display import display, Image"
      ],
      "metadata": {
        "id": "o8CeqD3u8Z4d"
      },
      "execution_count": null,
      "outputs": []
    },
    {
      "cell_type": "code",
      "source": [
        "# Модели YOLO\n",
        "#YOLOv8n\t640\t37.3\t80.4\t0.99\t3.2\t8.7\n",
        "#YOLOv8s\t640\t44.9\t128.4\t1.20\t11.2\t28.6\n",
        "#YOLOv8m\t640\t50.2\t234.7\t1.83\t25.9\t78.9\n",
        "#YOLOv8l\t640\t52.9\t375.2\t2.39\t43.7\t165.2\n",
        "#YOLOv8x\t640\t53.9\t479.1\t3.53\t68.2\t257.8\n",
        "\n",
        "%cd {HOME}\n",
        "!yolo task=detect mode=predict model=yolov8x.pt conf=0.25 source='https://media.roboflow.com/notebooks/examples/dog.jpeg' save=true"
      ],
      "metadata": {
        "id": "EnipUakP8Z69"
      },
      "execution_count": null,
      "outputs": []
    },
    {
      "cell_type": "code",
      "source": [
        "%cd {HOME}\n",
        "Image(filename='runs/detect/predict/dog.jpeg', height=600)"
      ],
      "metadata": {
        "id": "c1S7e15l8Z9U"
      },
      "execution_count": null,
      "outputs": []
    },
    {
      "cell_type": "code",
      "source": [
        "model = YOLO(f'{HOME}/yolov8x.pt')\n",
        "results = model.predict(source='https://media.roboflow.com/notebooks/examples/dog.jpeg', conf=0.25)"
      ],
      "metadata": {
        "id": "wMH1T1Oy8Z_u"
      },
      "execution_count": null,
      "outputs": []
    },
    {
      "cell_type": "code",
      "source": [
        "# Загрузка датасета\n",
        "\n",
        "!mkdir {HOME}/datasets\n",
        "%cd {HOME}/datasets\n",
        "\n",
        "!pip install roboflow\n",
        "\n",
        "from roboflow import Roboflow\n",
        "rf = Roboflow(api_key=\"qLZbpPB0jiTKkpMyw8O7\")\n",
        "project = rf.workspace(\"okorok-shinoda-vixoq\").project(\"inosuke-defects\")\n",
        "dataset = project.version(2).download(\"yolov5\")"
      ],
      "metadata": {
        "id": "Mnftecnh8aCO"
      },
      "execution_count": null,
      "outputs": []
    },
    {
      "cell_type": "code",
      "source": [
        "# Тренировка модели\n",
        "\n",
        "%cd {HOME}\n",
        "\n",
        "!yolo task=detect mode=train model=yolov8x.pt data={dataset.location}/data.yaml epochs=50 batch=8 imgsz=640"
      ],
      "metadata": {
        "id": "xzW2YWi78aEU"
      },
      "execution_count": null,
      "outputs": []
    },
    {
      "cell_type": "code",
      "source": [
        "# Проверка работоспособности\n",
        "\n",
        "%cd {HOME}\n",
        "Image(filename=f'{HOME}/runs/detect/train/val_batch0_pred.jpg', width=600)"
      ],
      "metadata": {
        "id": "rXK_6T_38aGm"
      },
      "execution_count": null,
      "outputs": []
    }
  ]
}